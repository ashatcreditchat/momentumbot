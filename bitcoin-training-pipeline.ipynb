{
 "cells": [
  {
   "cell_type": "code",
   "execution_count": null,
   "metadata": {
    "ExecuteTime": {
     "end_time": "2024-01-06T14:52:00.352138Z",
     "start_time": "2024-01-06T14:52:00.350077Z"
    }
   },
   "outputs": [],
   "source": [
    "import hopsworks\n",
    "import pandas as pd\n",
    "import tensorflow as tf\n",
    "from keras.layers import Dense\n",
    "from keras.layers import LSTM\n",
    "from keras.models import Sequential\n",
    "import os\n",
    "import numpy as np\n",
    "import joblib\n",
    "import yfinance as yf\n",
    "from sklearn.preprocessing import MinMaxScaler"
   ]
  },
  {
   "cell_type": "code",
   "execution_count": null,
   "metadata": {
    "ExecuteTime": {
     "end_time": "2024-01-06T14:52:03.066286Z",
     "start_time": "2024-01-06T14:52:01.284869Z"
    },
    "collapsed": false,
    "jupyter": {
     "outputs_hidden": false
    }
   },
   "outputs": [],
   "source": [
    "# # You have to set the environment variable 'HOPSWORKS_API_KEY' for login to succeed\n",
    "project = hopsworks.login()\n",
    "fs = project.get_feature_store()"
   ]
  },
  {
   "cell_type": "code",
   "execution_count": null,
   "metadata": {
    "ExecuteTime": {
     "end_time": "2024-01-06T15:13:15.073686Z",
     "start_time": "2024-01-06T15:13:11.619225Z"
    },
    "collapsed": false,
    "jupyter": {
     "outputs_hidden": false
    }
   },
   "outputs": [],
   "source": [
    "# Get features (data) from feature store\n",
    "# bitcoin data\n",
    "bitcoin_fg = fs.get_feature_group(name=\"bitcoin\", version=1)\n",
    "print(bitcoin_fg)\n",
    "query = bitcoin_fg.select_all()\n",
    "feature_view = fs.get_or_create_feature_view(name=\"bitcoin\",\n",
    "                                  version=1,\n",
    "                                  description=\"Read from bitcoin dataset\",\n",
    "                                  labels=[\"close\"],\n",
    "                                  query=query)\n",
    "print(feature_view)\n",
    "\n",
    "df_bitcoin = bitcoin_fg.read()\n",
    "df_bitcoin = df_bitcoin.sort_values(by=\"date\")\n",
    "df_bitcoin.reset_index(drop=True,inplace=True)\n",
    "\n",
    "print(df_bitcoin)\n",
    "y_bitcoin = df_bitcoin['close'].values.reshape(-1,1)"
   ]
  },
  {
   "cell_type": "code",
   "execution_count": null,
   "metadata": {
    "collapsed": false,
    "jupyter": {
     "outputs_hidden": false
    }
   },
   "outputs": [],
   "source": [
    "# forecast setting\n",
    "n_forecast = 90  # length of output sequences (forecast period)\n",
    "n_lookback = 3*n_forecast  # length of input sequences (lookback period, should be 3 times longer than forecast period)"
   ]
  },
  {
   "cell_type": "code",
   "execution_count": null,
   "metadata": {
    "collapsed": false,
    "jupyter": {
     "outputs_hidden": false
    }
   },
   "outputs": [],
   "source": [
    "# Model Training for bitcoin\n",
    "scaler_bitcoin = MinMaxScaler(feature_range=(0, 1))\n",
    "scaler_bitcoin = scaler_bitcoin.fit(y_bitcoin)\n",
    "y_bitcoin = scaler_bitcoin.transform(y_bitcoin)\n",
    "\n",
    "X_bitcoin = []\n",
    "Y_bitcoin = []\n",
    "\n",
    "for i in range(n_lookback, len(y_bitcoin) - n_forecast + 1):\n",
    "    X_bitcoin.append(y_bitcoin[i - n_lookback: i])\n",
    "    Y_bitcoin.append(y_bitcoin[i: i + n_forecast])\n",
    "\n",
    "X_bitcoin = np.array(X_bitcoin)\n",
    "Y_bitcoin = np.array(Y_bitcoin)\n",
    "print(X_bitcoin.shape, Y_bitcoin.shape)\n",
    "\n",
    "# fit / train the model\n",
    "model_bitcoin = Sequential()\n",
    "model_bitcoin.add(LSTM(units=128, return_sequences=True, input_shape=(n_lookback, 1)))\n",
    "model_bitcoin.add(LSTM(units=64, return_sequences=True))\n",
    "model_bitcoin.add(LSTM(units=64, return_sequences=False))\n",
    "model_bitcoin.add(Dense(n_forecast))\n",
    "model_bitcoin.compile(loss='mean_squared_error', optimizer='adam')\n",
    "model_bitcoin.fit(X_bitcoin, Y_bitcoin, epochs=20, batch_size=32, verbose=1)"
   ]
  },
  {
   "cell_type": "code",
   "execution_count": null,
   "metadata": {
    "collapsed": false,
    "jupyter": {
     "outputs_hidden": false
    }
   },
   "outputs": [],
   "source": [
    "# We will now upload our model to the Hopsworks Model Registry. First get an object for the model registry.\n",
    "mr = project.get_model_registry()\n",
    "model_dir=\"bitcoin_model\"\n",
    "if os.path.isdir(model_dir) == False:\n",
    "    os.mkdir(model_dir)\n",
    "\n",
    "# Save both our model and the confusion matrix to 'model_dir', whose contents will be uploaded to the model registry\n",
    "joblib.dump(model_bitcoin, model_dir + \"/bitcoin_model.pkl\")\n",
    "# fig.savefig(model_dir + \"/wine_confusion_matrix.png\")\n",
    "\n",
    "# # Create an entry in the model registry that includes the model's name, desc, metrics\n",
    "bitcoin_model = mr.python.create_model(\n",
    "    name=\"bitcoin_model\",\n",
    "    # metrics={\"accuracy\" : metrics['accuracy']},\n",
    "    # model_schema=model_schema,\n",
    "    description=\"bitcoin Predictor\"\n",
    ")\n",
    "\n",
    "# Upload the model to the model registry, including all files in 'model_dir'\n",
    "bitcoin_model.save(model_dir)\n"
   ]
  },
  {
   "cell_type": "code",
   "execution_count": null,
   "metadata": {},
   "outputs": [],
   "source": []
  },
  {
   "cell_type": "code",
   "execution_count": null,
   "metadata": {},
   "outputs": [],
   "source": []
  }
 ],
 "metadata": {
  "kernelspec": {
   "display_name": "Python 3 (ipykernel)",
   "language": "python",
   "name": "python3"
  },
  "language_info": {
   "codemirror_mode": {
    "name": "ipython",
    "version": 3
   },
   "file_extension": ".py",
   "mimetype": "text/x-python",
   "name": "python",
   "nbconvert_exporter": "python",
   "pygments_lexer": "ipython3",
   "version": "3.9.18"
  }
 },
 "nbformat": 4,
 "nbformat_minor": 4
}
