{
 "cells": [
  {
   "cell_type": "code",
   "execution_count": null,
   "id": "5e332935",
   "metadata": {},
   "outputs": [],
   "source": [
    "import seaborn as sns\n",
    "sns.set_palette('husl')\n",
    "import matplotlib.pyplot as plt\n",
    "%matplotlib inline"
   ]
  },
  {
   "cell_type": "code",
   "execution_count": null,
   "id": "b720e1e6",
   "metadata": {},
   "outputs": [],
   "source": [
    "import hopsworks\n",
    "import pandas as pd\n",
    "import numpy as np"
   ]
  },
  {
   "cell_type": "code",
   "execution_count": null,
   "id": "7f74f260",
   "metadata": {},
   "outputs": [],
   "source": [
    "project = hopsworks.login()\n",
    "fs = project.get_feature_store()"
   ]
  },
  {
   "cell_type": "code",
   "execution_count": null,
   "id": "d6e407db",
   "metadata": {},
   "outputs": [],
   "source": [
    "df = pd.read_csv(\"Tools/^IXIC.csv\")\n",
    "df"
   ]
  },
  {
   "cell_type": "code",
   "execution_count": null,
   "id": "67922f4f",
   "metadata": {},
   "outputs": [],
   "source": [
    "df.info()\n",
    "# the dtype of \"type\" column is object\n",
    "# some elements are null"
   ]
  },
  {
   "cell_type": "code",
   "execution_count": null,
   "id": "28d13684",
   "metadata": {},
   "outputs": [],
   "source": [
    "# Assuming df is your original DataFrame\n",
    "# If your Date column is not in datetime format, convert it first\n",
    "# df['Date'] = pd.to_datetime(df['Date'])\n",
    "\n",
    "# Create a new DataFrame with a complete date range\n",
    "# date_range = pd.date_range(start=df['Date'].min(), end=df['Date'].max(), freq='D')\n",
    "# complete_df = pd.DataFrame({'Date': date_range})\n",
    "\n",
    "# Merge the original DataFrame with the complete date range DataFrame\n",
    "# merged_df = pd.merge(complete_df, df, on='Date', how='left')\n",
    "\n",
    "# Forward-fill missing values in the Close column\n",
    "# merged_df['Close'] = merged_df['Close'].ffill()"
   ]
  },
  {
   "cell_type": "code",
   "execution_count": null,
   "id": "75f9db28-71e4-46e6-878e-0009d89bdf04",
   "metadata": {},
   "outputs": [],
   "source": [
    "import matplotlib.pyplot as plt\n",
    "\n",
    "# Assuming df is your DataFrame with the 'Close' column\n",
    "# If your Date column is not in datetime format, convert it first\n",
    "df['Date'] = pd.to_datetime(df['Date'])\n",
    "\n",
    "# Create a line chart\n",
    "plt.figure(figsize=(10, 6))  # Adjust the figure size if needed\n",
    "df.plot(x='Date', y='Close', kind='line', linestyle='-', color='blue', ax=plt.gca())\n",
    "plt.title('Line Chart of Close')\n",
    "plt.xlabel('Date')\n",
    "plt.ylabel('Close')\n",
    "plt.grid(True)\n",
    "plt.show()"
   ]
  },
  {
   "cell_type": "code",
   "execution_count": null,
   "id": "6df9d07f",
   "metadata": {},
   "outputs": [],
   "source": [
    "nasdaq_fg = fs.get_or_create_feature_group(\n",
    "    name=\"nasdaq\",\n",
    "    version=1,\n",
    "    # remember to change the version if we want to modify the feature group\n",
    "    primary_key=[\"Date\",\"Close\"], \n",
    "    description=\"nasdaq dataset\")\n",
    "nasdaq_fg.insert(df)"
   ]
  },
  {
   "cell_type": "code",
   "execution_count": null,
   "id": "7ce9376f-9495-4c28-8e3c-576920e89daf",
   "metadata": {},
   "outputs": [],
   "source": []
  }
 ],
 "metadata": {
  "kernelspec": {
   "display_name": "Python 3 (ipykernel)",
   "language": "python",
   "name": "python3"
  },
  "language_info": {
   "codemirror_mode": {
    "name": "ipython",
    "version": 3
   },
   "file_extension": ".py",
   "mimetype": "text/x-python",
   "name": "python",
   "nbconvert_exporter": "python",
   "pygments_lexer": "ipython3",
   "version": "3.10.13"
  }
 },
 "nbformat": 4,
 "nbformat_minor": 5
}
